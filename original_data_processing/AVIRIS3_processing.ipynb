{
 "cells": [
  {
   "cell_type": "code",
   "execution_count": 1,
   "id": "b4408173-ff64-43d7-8b96-28bed834890b",
   "metadata": {
    "execution": {
     "iopub.execute_input": "2025-04-02T19:19:15.346040Z",
     "iopub.status.busy": "2025-04-02T19:19:15.345606Z",
     "iopub.status.idle": "2025-04-02T19:19:21.084977Z",
     "shell.execute_reply": "2025-04-02T19:19:21.084651Z",
     "shell.execute_reply.started": "2025-04-02T19:19:15.346012Z"
    }
   },
   "outputs": [],
   "source": [
    "import os\n",
    "import re\n",
    "import sys\n",
    "import dask.array as da\n",
    "import pandas as pd\n",
    "import numpy as np\n",
    "import rasterio\n",
    "import geopandas as gpd\n",
    "import tarfile\n",
    "from osgeo import gdal, osr\n",
    "import matplotlib.pyplot as plt"
   ]
  },
  {
   "cell_type": "code",
   "execution_count": 2,
   "id": "69e75855-f4b5-4931-83e4-c75440f45352",
   "metadata": {
    "execution": {
     "iopub.execute_input": "2025-04-02T19:19:25.001012Z",
     "iopub.status.busy": "2025-04-02T19:19:25.000246Z",
     "iopub.status.idle": "2025-04-02T19:19:25.012437Z",
     "shell.execute_reply": "2025-04-02T19:19:25.011633Z",
     "shell.execute_reply.started": "2025-04-02T19:19:25.000981Z"
    }
   },
   "outputs": [],
   "source": [
    "def read_tif(tif_file):\n",
    "    dataset = gdal.Open(tif_file)\n",
    "    cols = dataset.RasterXSize\n",
    "    rows = dataset.RasterYSize\n",
    "    im_proj = (dataset.GetProjection())\n",
    "    im_Geotrans = (dataset.GetGeoTransform())\n",
    "    im_data = dataset.ReadAsArray(0, 0, cols, rows)\n",
    "    if im_data.ndim == 3:\n",
    "        im_data = np.moveaxis(dataset.ReadAsArray(0, 0, cols, rows), 0, -1)\n",
    "    return im_data, im_Geotrans, im_proj,rows, cols\n",
    "    \n",
    "def array_to_geotiff(array, output_path, geo_transform, projection, band_names=None):\n",
    "    rows, cols, num_bands = array.shape\n",
    "    driver = gdal.GetDriverByName('GTiff')\n",
    "    dataset = driver.Create(output_path, cols, rows, num_bands, gdal.GDT_Float32)\n",
    "    \n",
    "    dataset.SetGeoTransform(geo_transform)\n",
    "    dataset.SetProjection(projection)\n",
    "    \n",
    "    for band_num in range(num_bands):\n",
    "        band = dataset.GetRasterBand(band_num + 1)\n",
    "        band.WriteArray(array[:, :, band_num])\n",
    "        band.FlushCache()\n",
    "        \n",
    "        if band_names:\n",
    "            band.SetDescription(band_names[band_num])\n",
    "    \n",
    "    dataset = None\n",
    "    band = None\n",
    "    return\n",
    "def pixel_to_coord(gt, x, y):\n",
    "    x_coord = gt[0] + x * gt[1] + y * gt[2]\n",
    "    y_coord = gt[3] + x * gt[4] + y * gt[5]\n",
    "    return x_coord, y_coord"
   ]
  },
  {
   "cell_type": "code",
   "execution_count": 4,
   "id": "ee2b4399-139e-4e12-ae11-3bdf9218287b",
   "metadata": {
    "execution": {
     "iopub.execute_input": "2025-03-12T21:08:28.550880Z",
     "iopub.status.busy": "2025-03-12T21:08:28.550151Z",
     "iopub.status.idle": "2025-03-12T21:09:10.766072Z",
     "shell.execute_reply": "2025-03-12T21:09:10.765758Z",
     "shell.execute_reply.started": "2025-03-12T21:08:28.550822Z"
    }
   },
   "outputs": [],
   "source": [
    "## Research_area: SF\n",
    "input_tif = \"AV320230822t183400_L2A_OE_main_98b13fff_RFL_ORT\"\n",
    "output_tif = \"AV320230822t183400_L2A_OE_main_98b13fff_RFL_ORT.tif\"\n",
    "gdal.Warp(output_tif, input_tif, format = 'GTiff')\n",
    "output_tif = None"
   ]
  },
  {
   "cell_type": "code",
   "execution_count": 13,
   "id": "c2c9e7af-08f3-4b6a-91fb-4e4ce945a856",
   "metadata": {
    "execution": {
     "iopub.execute_input": "2025-03-28T20:14:17.408403Z",
     "iopub.status.busy": "2025-03-28T20:14:17.407449Z",
     "iopub.status.idle": "2025-03-28T20:22:45.633892Z",
     "shell.execute_reply": "2025-03-28T20:22:45.633527Z",
     "shell.execute_reply.started": "2025-03-28T20:14:17.408354Z"
    }
   },
   "outputs": [],
   "source": [
    "## Research_area: Richfield\n",
    "\n",
    "data_path = \"/Users/fji/Desktop/rich_AVIRIS/\"\n",
    "\n",
    "file_name = os.listdir(data_path)\n",
    "file_name = [x for x in file_name if \".tar.gz\" in x and \"._\" not in x]\n",
    "\n",
    "for file in file_name:\n",
    "    input_tif = f\"{data_path}{file.split('.')[0]}_RFL_ORT\"\n",
    "    output_tif = f\"{data_path}{file.split('.')[0]}_RFL_ORT.tif\"\n",
    "    gdal.Warp(output_tif, input_tif, format = 'GTiff')"
   ]
  },
  {
   "cell_type": "code",
   "execution_count": 16,
   "id": "3a442364-4b93-4d89-ae86-a9167035ad5b",
   "metadata": {
    "execution": {
     "iopub.execute_input": "2025-03-28T21:10:52.048350Z",
     "iopub.status.busy": "2025-03-28T21:10:52.047557Z",
     "iopub.status.idle": "2025-03-28T21:11:05.110601Z",
     "shell.execute_reply": "2025-03-28T21:11:05.110275Z",
     "shell.execute_reply.started": "2025-03-28T21:10:52.048290Z"
    }
   },
   "outputs": [
    {
     "name": "stdout",
     "output_type": "stream",
     "text": [
      "(2364, 3884, 284) (387195.50286180223, 0.5000000000000363, 0.0, 4277315.237112288, 0.0, -0.5000000000000363) PROJCS[\"WGS 84 / UTM zone 12N\",GEOGCS[\"WGS 84\",DATUM[\"WGS_1984\",SPHEROID[\"WGS 84\",6378137,298.257223563,AUTHORITY[\"EPSG\",\"7030\"]],AUTHORITY[\"EPSG\",\"6326\"]],PRIMEM[\"Greenwich\",0,AUTHORITY[\"EPSG\",\"8901\"]],UNIT[\"degree\",0.0174532925199433,AUTHORITY[\"EPSG\",\"9122\"]],AUTHORITY[\"EPSG\",\"4326\"]],PROJECTION[\"Transverse_Mercator\"],PARAMETER[\"latitude_of_origin\",0],PARAMETER[\"central_meridian\",-111],PARAMETER[\"scale_factor\",0.9996],PARAMETER[\"false_easting\",500000],PARAMETER[\"false_northing\",0],UNIT[\"metre\",1,AUTHORITY[\"EPSG\",\"9001\"]],AXIS[\"Easting\",EAST],AXIS[\"Northing\",NORTH],AUTHORITY[\"EPSG\",\"32612\"]] 2364 3884\n"
     ]
    }
   ],
   "source": [
    "im_data, im_Geotrans, im_proj,rows, cols = read_tif(\"/Users/fji/Desktop/rich_AVIRIS/AV320231010t223751_L2A_OE_main_98b13fff_RFL_ORT.tif\")\n",
    "print(im_data.shape, im_Geotrans, im_proj,rows, cols)"
   ]
  },
  {
   "cell_type": "code",
   "execution_count": 10,
   "id": "48f5af8b-b88a-4381-a167-1357b3be4164",
   "metadata": {
    "execution": {
     "iopub.execute_input": "2025-04-02T19:22:43.879682Z",
     "iopub.status.busy": "2025-04-02T19:22:43.879132Z",
     "iopub.status.idle": "2025-04-02T19:49:07.854232Z",
     "shell.execute_reply": "2025-04-02T19:49:07.853895Z",
     "shell.execute_reply.started": "2025-04-02T19:22:43.879643Z"
    }
   },
   "outputs": [
    {
     "name": "stdout",
     "output_type": "stream",
     "text": [
      "AV320230925t180116_L2A_OE_main_98b13fff_RFL_ORT_v0p1\n",
      "************************************************************************************************\n",
      "AV320230925t181559_L2A_OE_main_98b13fff_RFL_ORT_v0p1\n",
      "************************************************************************************************\n",
      "AV320230925t171815_L2A_OE_main_98b13fff_RFL_ORT_v0p1\n",
      "************************************************************************************************\n",
      "AV320230925t173235_L2A_OE_main_98b13fff_RFL_ORT_v0p1\n",
      "************************************************************************************************\n",
      "AV320230925t174711_L2A_OE_main_98b13fff_RFL_ORT_v0p1\n",
      "************************************************************************************************\n",
      "AV320230925t182957_L2A_OE_main_98b13fff_RFL_ORT_v0p1\n",
      "************************************************************************************************\n"
     ]
    }
   ],
   "source": [
    "## clip the data\n",
    "data_path = \"/Users/fji/Desktop/2_processed_data/\"\n",
    "data_path2 = \"/Users/fji/Desktop/3_paired_EMIT_Planet/\"\n",
    "folders = [\"2_San_Francisco\", \"3_Kanab\", \"4_Richfield\"]\n",
    "for idx, folder in enumerate(folders[1:2]):\n",
    "    path = f\"{data_path}{folder}/2_AVIRIS3/\"\n",
    "    file_names = os.listdir(path)\n",
    "    file_names = [x for x in file_names if \"v0p1\" in x and \".hdr\" not in x]\n",
    "    if folder != \"3_Kanab\":\n",
    "        shp = f\"{data_path2}{folder}/0_clip_shp/0_first_beginning_clip_shp.shp\"\n",
    "        gdf = gpd.read_file(shp)\n",
    "        bounds = gdf.bounds\n",
    "        min_x = bounds[\"minx\"].values[0]\n",
    "        min_y = bounds[\"miny\"].values[0]\n",
    "        max_x = bounds[\"maxx\"].values[0]\n",
    "        max_y = bounds[\"maxy\"].values[0]\n",
    "        ul_x, ul_y = (min_x, max_y)\n",
    "        lr_x, lr_y = (max_x, min_y)\n",
    "        print(ul_x, lr_y, lr_x, ul_y)\n",
    "        for file in file_names:\n",
    "            in_tif = f\"{path}{file}\"\n",
    "            out_tif = f\"{path}{file[:-4]}_clipped.tif\"\n",
    "            gdal.Warp(out_tif, in_tif, format = 'GTiff', outputBounds=(ul_x, lr_y, lr_x, ul_y), cutlineDSName=shp, cropToCutline=True)\n",
    "    else:\n",
    "        shp = f\"{data_path}{folder}/kanab_research_area/kanab_research_areas.shp\"\n",
    "        gdf = gpd.read_file(shp)\n",
    "        bounds = gdf.bounds\n",
    "        min_x = bounds[\"minx\"].values[0]\n",
    "        min_y = bounds[\"miny\"].values[0]\n",
    "        max_x = bounds[\"maxx\"].values[0]\n",
    "        max_y = bounds[\"maxy\"].values[0]\n",
    "        ul_x, ul_y = (min_x, max_y)\n",
    "        lr_x, lr_y = (max_x, min_y)\n",
    "        for file in file_names:\n",
    "            print(file)\n",
    "            in_tif = f\"{path}{file}\"\n",
    "            out_tif = f\"{path}{file[:-5]}_clipped.tif\"\n",
    "            dataset = gdal.Open(in_tif)\n",
    "            geotransform = dataset.GetGeoTransform()\n",
    "            ul_x2 = geotransform[0]\n",
    "            ul_y2 = geotransform[3]\n",
    "            cols = dataset.RasterXSize\n",
    "            rows = dataset.RasterYSize\n",
    "            lr_x2 = ul_x2 + (cols * geotransform[1])\n",
    "            lr_y2 = ul_y2 + (rows * geotransform[5])\n",
    "            \n",
    "            ul_x_new = max(ul_x, ul_x2)\n",
    "            ul_y_new = min(ul_y, ul_y2)\n",
    "            lr_x_new = min(lr_x, lr_x2)\n",
    "            lr_y_new = max(lr_y, lr_y2)\n",
    "            gdal.Warp(out_tif, in_tif, format = 'GTiff', outputBounds=(ul_x_new, lr_y_new, lr_x_new, ul_y_new))\n",
    "            print(\"************************************************************************************************\")\n",
    "                    "
   ]
  },
  {
   "cell_type": "code",
   "execution_count": 13,
   "id": "6470d075-666b-4155-a6f3-2ec1eba7af63",
   "metadata": {
    "execution": {
     "iopub.execute_input": "2025-04-03T17:56:39.739610Z",
     "iopub.status.busy": "2025-04-03T17:56:39.739184Z",
     "iopub.status.idle": "2025-04-03T18:07:50.079822Z",
     "shell.execute_reply": "2025-04-03T18:07:50.079501Z",
     "shell.execute_reply.started": "2025-04-03T17:56:39.739583Z"
    }
   },
   "outputs": [],
   "source": [
    "# mosaic flightlines\n",
    "data_path = \"/Users/fji/Desktop/2_processed_data/3_Kanab/2_AVIRIS3/\"\n",
    "\n",
    "file_names = os.listdir(data_path)\n",
    "file_names = [x for x in file_names if \"_clipped.tif\" in x and \".aux.xml\" not in x]\n",
    "file_names = [f\"{data_path}{x}\" for x in file_names]\n",
    "\n",
    "output_path = f'{data_path}AVIRIS3_RFL_20230925.tif'\n",
    "options = gdal.WarpOptions(format='GTiff')\n",
    "mosaic = gdal.Warp(output_path, file_names, options=options)\n",
    "mosaic = None "
   ]
  },
  {
   "cell_type": "code",
   "execution_count": 12,
   "id": "3f69742d-e178-457c-bfd0-73db260a75a0",
   "metadata": {
    "execution": {
     "iopub.execute_input": "2025-04-03T17:56:28.653416Z",
     "iopub.status.busy": "2025-04-03T17:56:28.652996Z",
     "iopub.status.idle": "2025-04-03T17:56:28.661624Z",
     "shell.execute_reply": "2025-04-03T17:56:28.660724Z",
     "shell.execute_reply.started": "2025-04-03T17:56:28.653387Z"
    }
   },
   "outputs": [
    {
     "data": {
      "text/plain": [
       "['/Users/fji/Desktop/2_processed_data/3_Kanab/2_AVIRIS3/AV320230925t174711_L2A_OE_main_98b13fff_RFL_ORT_clipped.tif',\n",
       " '/Users/fji/Desktop/2_processed_data/3_Kanab/2_AVIRIS3/AV320230925t180116_L2A_OE_main_98b13fff_RFL_ORT_clipped.tif',\n",
       " '/Users/fji/Desktop/2_processed_data/3_Kanab/2_AVIRIS3/AV320230925t182957_L2A_OE_main_98b13fff_RFL_ORT_clipped.tif',\n",
       " '/Users/fji/Desktop/2_processed_data/3_Kanab/2_AVIRIS3/AV320230925t171815_L2A_OE_main_98b13fff_RFL_ORT_clipped.tif',\n",
       " '/Users/fji/Desktop/2_processed_data/3_Kanab/2_AVIRIS3/AV320230925t181559_L2A_OE_main_98b13fff_RFL_ORT_clipped.tif',\n",
       " '/Users/fji/Desktop/2_processed_data/3_Kanab/2_AVIRIS3/AV320230925t173235_L2A_OE_main_98b13fff_RFL_ORT_clipped.tif']"
      ]
     },
     "execution_count": 12,
     "metadata": {},
     "output_type": "execute_result"
    }
   ],
   "source": [
    "file_names"
   ]
  },
  {
   "cell_type": "code",
   "execution_count": null,
   "id": "1290fc6a-30d9-481f-b39b-e0dc46a1ed13",
   "metadata": {},
   "outputs": [],
   "source": []
  }
 ],
 "metadata": {
  "kernelspec": {
   "display_name": "Python 3 (ipykernel)",
   "language": "python",
   "name": "python3"
  },
  "language_info": {
   "codemirror_mode": {
    "name": "ipython",
    "version": 3
   },
   "file_extension": ".py",
   "mimetype": "text/x-python",
   "name": "python",
   "nbconvert_exporter": "python",
   "pygments_lexer": "ipython3",
   "version": "3.8.18"
  }
 },
 "nbformat": 4,
 "nbformat_minor": 5
}
