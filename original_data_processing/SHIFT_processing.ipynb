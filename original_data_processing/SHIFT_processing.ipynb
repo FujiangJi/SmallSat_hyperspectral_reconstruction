{
 "cells": [
  {
   "cell_type": "code",
   "execution_count": 1,
   "id": "b4408173-ff64-43d7-8b96-28bed834890b",
   "metadata": {
    "execution": {
     "iopub.execute_input": "2025-02-27T00:06:41.095738Z",
     "iopub.status.busy": "2025-02-27T00:06:41.095324Z",
     "iopub.status.idle": "2025-02-27T00:06:46.627729Z",
     "shell.execute_reply": "2025-02-27T00:06:46.627375Z",
     "shell.execute_reply.started": "2025-02-27T00:06:41.095712Z"
    }
   },
   "outputs": [],
   "source": [
    "import os\n",
    "import re\n",
    "import sys\n",
    "import dask.array as da\n",
    "import pandas as pd\n",
    "import numpy as np\n",
    "import rasterio\n",
    "import geopandas as gpd\n",
    "from osgeo import gdal, osr\n",
    "import matplotlib.pyplot as plt"
   ]
  },
  {
   "cell_type": "code",
   "execution_count": 2,
   "id": "69e75855-f4b5-4931-83e4-c75440f45352",
   "metadata": {
    "execution": {
     "iopub.execute_input": "2025-02-27T00:06:49.090574Z",
     "iopub.status.busy": "2025-02-27T00:06:49.090031Z",
     "iopub.status.idle": "2025-02-27T00:06:49.100827Z",
     "shell.execute_reply": "2025-02-27T00:06:49.099392Z",
     "shell.execute_reply.started": "2025-02-27T00:06:49.090527Z"
    }
   },
   "outputs": [],
   "source": [
    "def read_tif(tif_file):\n",
    "    dataset = gdal.Open(tif_file)\n",
    "    cols = dataset.RasterXSize\n",
    "    rows = dataset.RasterYSize\n",
    "    im_proj = (dataset.GetProjection())\n",
    "    im_Geotrans = (dataset.GetGeoTransform())\n",
    "    im_data = dataset.ReadAsArray(0, 0, cols, rows)\n",
    "    if im_data.ndim == 3:\n",
    "        im_data = np.moveaxis(dataset.ReadAsArray(0, 0, cols, rows), 0, -1)\n",
    "    return im_data, im_Geotrans, im_proj,rows, cols\n",
    "    \n",
    "def array_to_geotiff(array, output_path, geo_transform, projection, band_names=None):\n",
    "    rows, cols, num_bands = array.shape\n",
    "    driver = gdal.GetDriverByName('GTiff')\n",
    "    dataset = driver.Create(output_path, cols, rows, num_bands, gdal.GDT_Float32)\n",
    "    \n",
    "    dataset.SetGeoTransform(geo_transform)\n",
    "    dataset.SetProjection(projection)\n",
    "    \n",
    "    for band_num in range(num_bands):\n",
    "        band = dataset.GetRasterBand(band_num + 1)\n",
    "        band.WriteArray(array[:, :, band_num])\n",
    "        band.FlushCache()\n",
    "        \n",
    "        if band_names:\n",
    "            band.SetDescription(band_names[band_num])\n",
    "    \n",
    "    dataset = None\n",
    "    band = None\n",
    "    return\n",
    "def pixel_to_coord(gt, x, y):\n",
    "    x_coord = gt[0] + x * gt[1] + y * gt[2]\n",
    "    y_coord = gt[3] + x * gt[4] + y * gt[5]\n",
    "    return x_coord, y_coord"
   ]
  },
  {
   "cell_type": "markdown",
   "id": "d532d8fb-6c82-47a4-a0cc-8106182e4b66",
   "metadata": {},
   "source": [
    "### Apply GLT data (split bands due to the memory limitation)"
   ]
  },
  {
   "cell_type": "code",
   "execution_count": 3,
   "id": "922b1e90-d668-45a6-a9dc-c7aee228a60e",
   "metadata": {
    "execution": {
     "iopub.execute_input": "2025-02-27T00:07:10.507489Z",
     "iopub.status.busy": "2025-02-27T00:07:10.507119Z",
     "iopub.status.idle": "2025-02-27T00:07:11.490547Z",
     "shell.execute_reply": "2025-02-27T00:07:11.490175Z",
     "shell.execute_reply.started": "2025-02-27T00:07:10.507465Z"
    }
   },
   "outputs": [
    {
     "name": "stdout",
     "output_type": "stream",
     "text": [
      "(12023, 13739, 3) {1: 'ang20220420t184735', 2: 'ang20220420t190012', 3: 'ang20220420t191418', 4: 'ang20220420t192635', 5: 'ang20220420t194128', 6: 'ang20220420t195351', 7: 'ang20220420t200950', 8: 'ang20220420t202328', 9: 'ang20220420t204018'}\n",
      "(717720.0, 5.0, -0.0, 3865865.0, -0.0, -5.0) PROJCS[\"WGS 84 / UTM zone 10N\",GEOGCS[\"WGS 84\",DATUM[\"WGS_1984\",SPHEROID[\"WGS 84\",6378137,298.257223563,AUTHORITY[\"EPSG\",\"7030\"]],AUTHORITY[\"EPSG\",\"6326\"]],PRIMEM[\"Greenwich\",0,AUTHORITY[\"EPSG\",\"8901\"]],UNIT[\"degree\",0.0174532925199433,AUTHORITY[\"EPSG\",\"9122\"]],AUTHORITY[\"EPSG\",\"4326\"]],PROJECTION[\"Transverse_Mercator\"],PARAMETER[\"latitude_of_origin\",0],PARAMETER[\"central_meridian\",-123],PARAMETER[\"scale_factor\",0.9996],PARAMETER[\"false_easting\",500000],PARAMETER[\"false_northing\",0],UNIT[\"metre\",1,AUTHORITY[\"EPSG\",\"9001\"]],AXIS[\"Easting\",EAST],AXIS[\"Northing\",NORTH],AUTHORITY[\"EPSG\",\"32610\"]]\n"
     ]
    }
   ],
   "source": [
    "data_path = \"/Users/fji/Desktop/SHIFT/\"\n",
    "out_path = f\"{data_path}processed_imagery/\"\n",
    "image_path = f\"{data_path}SHIFT_20220420_imagery/\"\n",
    "glt_path = f\"{data_path}mosaic_glt/\"\n",
    "date = \"20220420\"\n",
    "\n",
    "glt_image = f\"{glt_path}{date}_box_mosaic_glt_phase\"\n",
    "glt_data, glt_Geotrans, glt_proj,glt_rows, glt_cols = read_tif(glt_image)\n",
    "\n",
    "flight_lines = f\"{glt_path}{date}_box_lines.txt\"\n",
    "df = pd.read_csv(flight_lines, header=None)\n",
    "df.columns = [\"flight_names\"]\n",
    "df[\"flight_lines\"] = np.arange(1,len(df)+1)\n",
    "flight = dict(zip(df['flight_lines'], df['flight_names']))\n",
    "\n",
    "print(glt_data.shape, flight)\n",
    "print(glt_Geotrans, glt_proj)"
   ]
  },
  {
   "cell_type": "code",
   "execution_count": 4,
   "id": "5160e1d8-aea2-4c57-bf78-f68acaffca9c",
   "metadata": {
    "execution": {
     "iopub.execute_input": "2025-02-27T00:07:21.606974Z",
     "iopub.status.busy": "2025-02-27T00:07:21.606435Z",
     "iopub.status.idle": "2025-02-27T07:14:19.875001Z",
     "shell.execute_reply": "2025-02-27T07:14:19.874292Z",
     "shell.execute_reply.started": "2025-02-27T00:07:21.606932Z"
    }
   },
   "outputs": [
    {
     "name": "stdout",
     "output_type": "stream",
     "text": [
      "processing band 1 to band 110.\n",
      "  line 1: total 6336104 points. opening....\n"
     ]
    },
    {
     "name": "stderr",
     "output_type": "stream",
     "text": [
      "/Users/fji/miniconda3/envs/Fujiang/lib/python3.8/site-packages/rasterio/__init__.py:304: NotGeoreferencedWarning: Dataset has no geotransform, gcps, or rpcs. The identity matrix will be returned.\n",
      "  dataset = DatasetReader(path, driver=driver, sharing=sharing, **kwargs)\n"
     ]
    },
    {
     "name": "stdout",
     "output_type": "stream",
     "text": [
      "    opened line 1 (17446, 598, 110)\n",
      "  line 2: total 5581688 points. opening....\n",
      "    opened line 2 (16048, 598, 110)\n",
      "  line 3: total 6619687 points. opening....\n",
      "    opened line 3 (13045, 598, 110)\n",
      "  line 4: total 5455417 points. opening....\n",
      "    opened line 4 (15642, 598, 110)\n",
      "  line 5: total 6238058 points. opening....\n",
      "    opened line 5 (12990, 598, 110)\n",
      "  line 6: total 5031907 points. opening....\n",
      "    opened line 6 (15078, 598, 110)\n",
      "  line 7: total 6019322 points. opening....\n",
      "    opened line 7 (17157, 598, 110)\n",
      "  line 8: total 6835884 points. opening....\n",
      "    opened line 8 (16887, 598, 110)\n",
      "  line 9: total 5823821 points. opening....\n",
      "    opened line 9 (17063, 598, 110)\n",
      "start saving band1 to band110 imagery\n",
      "processing band 111 to band 220.\n",
      "  line 1: total 6336104 points. opening....\n",
      "    opened line 1 (17446, 598, 110)\n",
      "  line 2: total 5581688 points. opening....\n",
      "    opened line 2 (16048, 598, 110)\n",
      "  line 3: total 6619687 points. opening....\n",
      "    opened line 3 (13045, 598, 110)\n",
      "  line 4: total 5455417 points. opening....\n",
      "    opened line 4 (15642, 598, 110)\n",
      "  line 5: total 6238058 points. opening....\n",
      "    opened line 5 (12990, 598, 110)\n",
      "  line 6: total 5031907 points. opening....\n",
      "    opened line 6 (15078, 598, 110)\n",
      "  line 7: total 6019322 points. opening....\n",
      "    opened line 7 (17157, 598, 110)\n",
      "  line 8: total 6835884 points. opening....\n",
      "    opened line 8 (16887, 598, 110)\n",
      "  line 9: total 5823821 points. opening....\n",
      "    opened line 9 (17063, 598, 110)\n",
      "start saving band111 to band220 imagery\n",
      "processing band 221 to band 330.\n",
      "  line 1: total 6336104 points. opening....\n",
      "    opened line 1 (17446, 598, 110)\n",
      "  line 2: total 5581688 points. opening....\n",
      "    opened line 2 (16048, 598, 110)\n",
      "  line 3: total 6619687 points. opening....\n",
      "    opened line 3 (13045, 598, 110)\n",
      "  line 4: total 5455417 points. opening....\n",
      "    opened line 4 (15642, 598, 110)\n",
      "  line 5: total 6238058 points. opening....\n",
      "    opened line 5 (12990, 598, 110)\n",
      "  line 6: total 5031907 points. opening....\n",
      "    opened line 6 (15078, 598, 110)\n",
      "  line 7: total 6019322 points. opening....\n",
      "    opened line 7 (17157, 598, 110)\n",
      "  line 8: total 6835884 points. opening....\n",
      "    opened line 8 (16887, 598, 110)\n",
      "  line 9: total 5823821 points. opening....\n",
      "    opened line 9 (17063, 598, 110)\n",
      "start saving band221 to band330 imagery\n",
      "processing band 331 to band 425.\n",
      "  line 1: total 6336104 points. opening....\n",
      "    opened line 1 (17446, 598, 95)\n",
      "  line 2: total 5581688 points. opening....\n",
      "    opened line 2 (16048, 598, 95)\n",
      "  line 3: total 6619687 points. opening....\n",
      "    opened line 3 (13045, 598, 95)\n",
      "  line 4: total 5455417 points. opening....\n",
      "    opened line 4 (15642, 598, 95)\n",
      "  line 5: total 6238058 points. opening....\n",
      "    opened line 5 (12990, 598, 95)\n",
      "  line 6: total 5031907 points. opening....\n",
      "    opened line 6 (15078, 598, 95)\n",
      "  line 7: total 6019322 points. opening....\n",
      "    opened line 7 (17157, 598, 95)\n",
      "  line 8: total 6835884 points. opening....\n",
      "    opened line 8 (16887, 598, 95)\n",
      "  line 9: total 5823821 points. opening....\n",
      "    opened line 9 (17063, 598, 95)\n",
      "start saving band331 to band425 imagery\n"
     ]
    }
   ],
   "source": [
    "band_splits = 110\n",
    "total_bands = 425\n",
    "for i in range(0, total_bands, band_splits):\n",
    "    start_band = i\n",
    "    end_band = min(i + band_splits, total_bands)\n",
    "    band_nums = end_band - start_band\n",
    "    print(f\"processing band {start_band+1} to band {end_band}.\")\n",
    "    out_array = np.full((glt_data.shape[0],glt_data.shape[1], band_nums), np.nan)\n",
    "    \n",
    "    lines = list(flight.keys())\n",
    "    for line in lines:\n",
    "        image = flight[line]\n",
    "        mask = glt_data[:, :, 2] != line\n",
    "        expanded_mask = mask[:,:,np.newaxis]\n",
    "        expanded_mask = np.broadcast_to(expanded_mask, glt_data.shape)\n",
    "        glt = np.where(expanded_mask, np.nan, glt_data)\n",
    "        \n",
    "        idx = np.where(glt[:,:,2] == line)\n",
    "        idx = list(zip(idx[0], idx[1]))\n",
    "        print(f\"  line {line}: total {len(idx)} points. opening....\")\n",
    "        \n",
    "        with rasterio.open(f\"{image_path}{image}_rfl_v0p1\") as dataset:\n",
    "            im_data = dataset.read([i for i in range(start_band+1, end_band+1)])\n",
    "            \n",
    "        im_data = np.moveaxis(im_data,0,-1)\n",
    "        print(f\"    opened line {line} {im_data.shape}\")\n",
    "        \n",
    "        for coor in idx:\n",
    "            image_col = int(glt[coor[0],coor[1],0])-1\n",
    "            image_row = int(glt[coor[0],coor[1],1])-1\n",
    "            out_array[coor[0],coor[1],:] = im_data[image_row, image_col,:]\n",
    "        im_data = None\n",
    "            \n",
    "    print(f\"start saving band{start_band+1} to band{end_band} imagery\")       \n",
    "    out_tif = f\"{out_path}SHIFT_RFL_{date}_band{start_band+1}_band{end_band}.tif\"\n",
    "    array_to_geotiff(out_array, out_tif, glt_Geotrans, glt_proj, band_names=[f\"band {x}\" for x in range(start_band+1, end_band+1)])\n",
    "    out_array = None\n",
    "    im_data = None   "
   ]
  },
  {
   "cell_type": "markdown",
   "id": "4628311a-7200-4803-9b90-67ce5626b3e9",
   "metadata": {},
   "source": [
    "### clip data to EMIT and Planet extent"
   ]
  },
  {
   "cell_type": "code",
   "execution_count": 5,
   "id": "b27304e9-ebc6-4f5f-a9c5-1c82a3043c9c",
   "metadata": {
    "execution": {
     "iopub.execute_input": "2025-02-27T07:23:36.199679Z",
     "iopub.status.busy": "2025-02-27T07:23:36.199277Z",
     "iopub.status.idle": "2025-02-27T07:23:36.431067Z",
     "shell.execute_reply": "2025-02-27T07:23:36.430658Z",
     "shell.execute_reply.started": "2025-02-27T07:23:36.199643Z"
    }
   },
   "outputs": [
    {
     "name": "stdout",
     "output_type": "stream",
     "text": [
      "723109.8808592575 3841945.93245933 745869.6095620227 3812729.2183499457\n"
     ]
    }
   ],
   "source": [
    "data_path = \"/Users/fji/Desktop/SHIFT/processed_imagery/\"\n",
    "shp = f\"/Users/fji/Desktop/SHIFT/shp_clip/clipped_areas.shp\"\n",
    "file1 = \"SHIFT_RFL_20220420_band1_band110.tif\"\n",
    "file2 = \"SHIFT_RFL_20220420_band111_band220.tif\"\n",
    "file3 = \"SHIFT_RFL_20220420_band221_band330.tif\"\n",
    "file4 = \"SHIFT_RFL_20220420_band331_band425.tif\"\n",
    "\n",
    "files = [file1, file2, file3, file4]\n",
    "\n",
    "gdf = gpd.read_file(shp)\n",
    "bounds = gdf.bounds\n",
    "min_x = bounds[\"minx\"].values[0]\n",
    "min_y = bounds[\"miny\"].values[0]\n",
    "max_x = bounds[\"maxx\"].values[0]\n",
    "max_y = bounds[\"maxy\"].values[0]\n",
    "ul_x, ul_y = (min_x, max_y)\n",
    "lr_x, lr_y = (max_x, min_y)\n",
    "print(ul_x, ul_y, lr_x, lr_y)"
   ]
  },
  {
   "cell_type": "code",
   "execution_count": 6,
   "id": "8bbf6b30-df82-440b-abbf-9bc34597ac15",
   "metadata": {
    "execution": {
     "iopub.execute_input": "2025-02-27T07:23:55.434322Z",
     "iopub.status.busy": "2025-02-27T07:23:55.433832Z",
     "iopub.status.idle": "2025-02-27T07:26:10.167677Z",
     "shell.execute_reply": "2025-02-27T07:26:10.167229Z",
     "shell.execute_reply.started": "2025-02-27T07:23:55.434298Z"
    }
   },
   "outputs": [],
   "source": [
    "ul_x, ul_y, lr_x, lr_y = 723110, 3841946, 745870, 3812729  ## adjust according to the values from previous step\n",
    "\n",
    "for file in files:\n",
    "    input_tif = f\"{data_path}{file}\"\n",
    "    output_tif = f\"{data_path}/{file[:-4]}_clipped.tif\"\n",
    "    gdal.Warp(output_tif, input_tif, format = 'GTiff', outputBounds=(ul_x, lr_y, lr_x, ul_y))\n",
    "    output_tif = None"
   ]
  },
  {
   "cell_type": "markdown",
   "id": "1e9cb903-4c00-459d-8f0c-209a805dc847",
   "metadata": {},
   "source": [
    "### merge the bands data to full spectrum data"
   ]
  },
  {
   "cell_type": "code",
   "execution_count": 7,
   "id": "a4eb4747-a833-4251-b812-6a5d765d76aa",
   "metadata": {
    "execution": {
     "iopub.execute_input": "2025-02-27T07:30:52.447489Z",
     "iopub.status.busy": "2025-02-27T07:30:52.447102Z",
     "iopub.status.idle": "2025-02-27T07:30:52.457049Z",
     "shell.execute_reply": "2025-02-27T07:30:52.456346Z",
     "shell.execute_reply.started": "2025-02-27T07:30:52.447461Z"
    }
   },
   "outputs": [],
   "source": [
    "head_file = \"/Users/fji/Desktop/SHIFT/SHIFT_20220420_imagery/ang20220420t191418_rfl_v0p1.hdr\"\n",
    "with open(head_file, 'r') as file:\n",
    "    hdr_content = file.read()\n",
    "\n",
    "wavelength_match = re.search(r'wavelength\\s*=\\s*\\{(.*?)\\}', hdr_content, re.DOTALL)\n",
    "if wavelength_match:\n",
    "    wavelength_str = wavelength_match.group(1)\n",
    "    wavelength = [float(value.strip()) for value in wavelength_str.split(',')]\n",
    "\n",
    "fwhm_match = re.search(r'fwhm\\s*=\\s*\\{(.*?)\\}', hdr_content, re.DOTALL)\n",
    "if fwhm_match:\n",
    "    fwhm_str = fwhm_match.group(1)\n",
    "    fwhm = [float(value.strip()) for value in fwhm_str.split(',')]\n",
    "\n",
    "band_names = [f\"{round(x,3)} nm\" for x in wavelength]"
   ]
  },
  {
   "cell_type": "code",
   "execution_count": 10,
   "id": "526cd48e-62d0-4947-ad57-37a976675da6",
   "metadata": {
    "execution": {
     "iopub.execute_input": "2025-02-27T07:31:49.451690Z",
     "iopub.status.busy": "2025-02-27T07:31:49.450965Z",
     "iopub.status.idle": "2025-02-27T09:04:12.443991Z",
     "shell.execute_reply": "2025-02-27T09:04:12.443684Z",
     "shell.execute_reply.started": "2025-02-27T07:31:49.451634Z"
    }
   },
   "outputs": [
    {
     "name": "stdout",
     "output_type": "stream",
     "text": [
      "opening SHIFT_RFL_20220420_band1_band110_clipped.tif\n",
      "  opened SHIFT_RFL_20220420_band1_band110_clipped.tif, shape: (5843, 4552, 110)\n",
      "   final image shape: (5843, 4552, 110)\n",
      "opening SHIFT_RFL_20220420_band111_band220_clipped.tif\n",
      "  opened SHIFT_RFL_20220420_band111_band220_clipped.tif, shape: (5843, 4552, 110)\n",
      "   final image shape: (5843, 4552, 220)\n",
      "opening SHIFT_RFL_20220420_band221_band330_clipped.tif\n",
      "  opened SHIFT_RFL_20220420_band221_band330_clipped.tif, shape: (5843, 4552, 110)\n",
      "   final image shape: (5843, 4552, 330)\n",
      "opening SHIFT_RFL_20220420_band331_band425_clipped.tif\n",
      "  opened SHIFT_RFL_20220420_band331_band425_clipped.tif, shape: (5843, 4552, 95)\n",
      "   final image shape: (5843, 4552, 425)\n",
      "start saving final imagery\n"
     ]
    }
   ],
   "source": [
    "data_path = \"/Users/fji/Desktop/SHIFT/processed_imagery/\"\n",
    "\n",
    "file1 = \"SHIFT_RFL_20220420_band1_band110_clipped.tif\"\n",
    "file2 = \"SHIFT_RFL_20220420_band111_band220_clipped.tif\"\n",
    "file3 = \"SHIFT_RFL_20220420_band221_band330_clipped.tif\"\n",
    "file4 = \"SHIFT_RFL_20220420_band331_band425_clipped.tif\"\n",
    "\n",
    "files = [file1, file2, file3, file4]\n",
    "start_var = True\n",
    "for file in files:\n",
    "    print(f\"opening {file}\")\n",
    "    im_data, im_Geotrans, im_proj,rows, cols = read_tif(f\"{data_path}{file}\")\n",
    "    print(f\"  opened {file}, shape: {im_data.shape}\")\n",
    "    if start_var:\n",
    "        final_image = im_data\n",
    "        start_var = False\n",
    "    else:\n",
    "        final_image = np.concatenate((final_image, im_data), axis=-1)\n",
    "    print(f\"   final image shape: {final_image.shape}\")\n",
    "    im_data = None\n",
    "\n",
    "print(f\"start saving final imagery\")       \n",
    "out_tif = f\"{data_path}SHIFT_RFL_20220420_clipped.tif\"\n",
    "array_to_geotiff(final_image, out_tif, im_Geotrans, im_proj, band_names=band_names)"
   ]
  },
  {
   "cell_type": "markdown",
   "id": "021ead18-d0b8-4dad-ab19-a003b488e0c7",
   "metadata": {},
   "source": [
    "### Clip the SHIFT to training_testing_validating_area, convert the projection from WGS 84 / UTM zone 10N to 11N to match the projection of Planet and EMIT"
   ]
  },
  {
   "cell_type": "code",
   "execution_count": 15,
   "id": "c994cca3-1748-4696-a99f-5119631c6102",
   "metadata": {
    "execution": {
     "iopub.execute_input": "2025-02-27T21:47:32.871596Z",
     "iopub.status.busy": "2025-02-27T21:47:32.871242Z",
     "iopub.status.idle": "2025-02-27T21:49:36.166718Z",
     "shell.execute_reply": "2025-02-27T21:49:36.166339Z",
     "shell.execute_reply.started": "2025-02-27T21:47:32.871571Z"
    }
   },
   "outputs": [],
   "source": [
    "data_path = \"/Users/fji/Desktop/SHIFT/processed_imagery/\"\n",
    "file_name = f\"{data_path}SHIFT_RFL_20220420_clipped.tif\"\n",
    "\n",
    "shp_path = \"/Volumes/ChenLab-1/Fujiang/2_SmallSat_project/3_paired_SHIFT_Planet/1_20230422/4_data_fusion_algorithm/1_original_data/0_experimental_shp/\"\n",
    "shp1 = \"1_experimental_shp.shp\"\n",
    "shp2 = \"2_whole_training_shp.shp\"\n",
    "shp3 = \"3_testing_shp.shp\"\n",
    "shp4 = \"4_validation_shp.shp\"\n",
    "\n",
    "\n",
    "shps = [shp1, shp2, shp3, shp4]\n",
    "out_tifs = [\"1_SHIFT_small_area.tif\", \"2_SHIFT_whole_area.tif\", \"3_SHIFT_testing_area.tif\", \"4_SHIFT_validating_area.tif\"]\n",
    "\n",
    "for idx, shp in enumerate(shps):\n",
    "    gdf = gpd.read_file(f\"{shp_path}{shp}\")\n",
    "    bounds = gdf.bounds\n",
    "    min_x = bounds[\"minx\"].values[0]\n",
    "    min_y = bounds[\"miny\"].values[0]\n",
    "    max_x = bounds[\"maxx\"].values[0]\n",
    "    max_y = bounds[\"maxy\"].values[0]\n",
    "    ul_x, ul_y = (min_x, max_y)\n",
    "    lr_x, lr_y = (max_x, min_y)\n",
    "    \n",
    "    input_tif = file_name\n",
    "    output_tif = f\"{data_path}/{out_tifs[idx]}\"\n",
    "    gdal.Warp(output_tif, input_tif, format = 'GTiff', outputBounds=(ul_x, lr_y, lr_x, ul_y), dstSRS='EPSG:32611')\n",
    "    output_tif = None"
   ]
  },
  {
   "cell_type": "code",
   "execution_count": null,
   "id": "089bb07b-107e-4a03-9a06-1af95be0ce7c",
   "metadata": {},
   "outputs": [],
   "source": []
  }
 ],
 "metadata": {
  "kernelspec": {
   "display_name": "Python 3 (ipykernel)",
   "language": "python",
   "name": "python3"
  },
  "language_info": {
   "codemirror_mode": {
    "name": "ipython",
    "version": 3
   },
   "file_extension": ".py",
   "mimetype": "text/x-python",
   "name": "python",
   "nbconvert_exporter": "python",
   "pygments_lexer": "ipython3",
   "version": "3.8.18"
  }
 },
 "nbformat": 4,
 "nbformat_minor": 5
}
