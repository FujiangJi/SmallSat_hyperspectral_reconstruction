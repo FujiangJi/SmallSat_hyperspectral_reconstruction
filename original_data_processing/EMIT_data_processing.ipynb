{
 "cells": [
  {
   "cell_type": "code",
   "execution_count": 1,
   "id": "10a21974-8b3b-4d48-b5bd-92b87253bc4c",
   "metadata": {
    "execution": {
     "iopub.execute_input": "2025-03-30T19:29:59.596101Z",
     "iopub.status.busy": "2025-03-30T19:29:59.595268Z",
     "iopub.status.idle": "2025-03-30T19:30:00.881753Z",
     "shell.execute_reply": "2025-03-30T19:30:00.881469Z",
     "shell.execute_reply.started": "2025-03-30T19:29:59.596025Z"
    }
   },
   "outputs": [],
   "source": [
    "import xarray as xr\n",
    "import numpy as np\n",
    "import netCDF4 as nc\n",
    "from osgeo import gdal, ogr,gdalconst\n",
    "import emit_tools as et"
   ]
  },
  {
   "cell_type": "code",
   "execution_count": 8,
   "id": "389ddd14-60e6-45fd-923a-1dca22cafcd1",
   "metadata": {
    "execution": {
     "iopub.execute_input": "2025-03-13T03:27:09.311447Z",
     "iopub.status.busy": "2025-03-13T03:27:09.310794Z",
     "iopub.status.idle": "2025-03-13T03:27:09.321647Z",
     "shell.execute_reply": "2025-03-13T03:27:09.319218Z",
     "shell.execute_reply.started": "2025-03-13T03:27:09.311392Z"
    }
   },
   "outputs": [],
   "source": [
    "# data_path = \"/Volumes/ChenLab/Fujiang/2_SmallSat_project/1_original_data/1_SHIFT_areas/\"\n",
    "# out_path = \"/Volumes/ChenLab/Fujiang/2_SmallSat_project/2_processed_data/1_SHIFT_areas/\"\n",
    "\n",
    "# file_names = [\"EMIT_L2A_RFL_001_20230219T202939_2305013_002.nc\", \"EMIT_L2A_RFL_001_20230219T202951_2305013_003.nc\", \n",
    "#               \"EMIT_L2A_RFL_001_20230401T203751_2309114_002.nc\", \"EMIT_L2A_RFL_001_20230401T203803_2309114_003.nc\",\n",
    "#               \"EMIT_L2A_RFL_001_20230422T195924_2311213_002.nc\"]\n",
    "# file_masks = [\"EMIT_L2A_MASK_001_20230219T202939_2305013_002.nc\", \"EMIT_L2A_MASK_001_20230219T202951_2305013_003.nc\", \n",
    "#               \"EMIT_L2A_MASK_001_20230401T203751_2309114_002.nc\", \"EMIT_L2A_MASK_001_20230401T203803_2309114_003.nc\",\n",
    "#               \"EMIT_L2A_MASK_001_20230422T195924_2311213_002.nc\"]\n",
    "\n",
    "# data_path = \"/Volumes/ChenLab-1/Fujiang/2_SmallSat_project/1_original_data/2_San_Francisco/1_Spaceborne_hyperspectral_imagery/\"\n",
    "# out_path = \"/Users/fji/Desktop/SF_EMIT/\"\n",
    "\n",
    "# file_names = [\"EMIT_L2A_RFL_001_20230822T192507_2323413_001.nc\", \"EMIT_L2A_RFL_001_20230822T192519_2323413_002.nc\", \n",
    "#               \"EMIT_L2A_RFL_001_20230822T192531_2323413_003.nc\"]\n",
    "\n",
    "# file_masks = [\"EMIT_L2A_MASK_001_20230822T192507_2323413_001.nc\", \"EMIT_L2A_MASK_001_20230822T192519_2323413_002.nc\", \n",
    "#               \"EMIT_L2A_MASK_001_20230822T192531_2323413_003.nc\"]\n",
    "\n",
    "data_path = \"/Volumes/ChenLab-1/Fujiang/2_SmallSat_project/1_original_data/4_kanab/1_Spaceborne_hyperspectral_imagery/\"\n",
    "out_path = \"/Users/fji/Desktop/kanab_EMIT/\"\n",
    "\n",
    "file_names = [\"EMIT_L2A_RFL_001_20230924T223439_2326715_009.nc\", \"EMIT_L2A_RFL_001_20230924T223451_2326715_010.nc\"]\n",
    "file_masks = [\"EMIT_L2A_MASK_001_20230924T223439_2326715_009.nc\", \"EMIT_L2A_MASK_001_20230924T223451_2326715_010.nc\"]"
   ]
  },
  {
   "cell_type": "code",
   "execution_count": 9,
   "id": "650e0ee2-67dd-497e-b603-dc378d1b8ea8",
   "metadata": {
    "execution": {
     "iopub.execute_input": "2025-03-13T03:27:13.411642Z",
     "iopub.status.busy": "2025-03-13T03:27:13.411166Z",
     "iopub.status.idle": "2025-03-13T03:27:58.823368Z",
     "shell.execute_reply": "2025-03-13T03:27:58.823034Z",
     "shell.execute_reply.started": "2025-03-13T03:27:13.411610Z"
    }
   },
   "outputs": [
    {
     "name": "stdout",
     "output_type": "stream",
     "text": [
      "Flags used: ['Cloud flag' 'Cirrus flag' 'Spacecraft Flag' 'Dilated Cloud Flag']\n",
      "EMIT_L2A_RFL_001_20231009T165926_2328211_010.nc finished\n",
      "Flags used: ['Cloud flag' 'Cirrus flag' 'Spacecraft Flag' 'Dilated Cloud Flag']\n",
      "EMIT_L2A_RFL_001_20231009T165938_2328211_011.nc finished\n"
     ]
    }
   ],
   "source": [
    "for i in range(len(file_names)):\n",
    "    file_name = file_names[i]\n",
    "    file_mask = file_masks[i]\n",
    "    flags = [0,1,3,4]\n",
    "    mask = et.quality_mask(f\"{data_path}{file_mask}\",flags)\n",
    "    bmask = et.band_mask(f\"{data_path}{file_mask}\")\n",
    "    ds = et.emit_xarray(f\"{data_path}{file_name}\", ortho=True, unpacked_bmask=bmask)\n",
    "    et.write_envi(ds, out_path, overwrite=False, extension='.img', interleave='BIL', glt_file=False)\n",
    "    print(file_name,\"finished\")"
   ]
  },
  {
   "cell_type": "code",
   "execution_count": null,
   "id": "57529142-1752-46d6-9589-2b58ce2634da",
   "metadata": {
    "execution": {
     "iopub.status.busy": "2025-03-13T03:00:27.580389Z",
     "iopub.status.idle": "2025-03-13T03:00:27.580514Z",
     "shell.execute_reply": "2025-03-13T03:00:27.580449Z",
     "shell.execute_reply.started": "2025-03-13T03:00:27.580444Z"
    }
   },
   "outputs": [],
   "source": [
    "## Extract reflectance uncertainty\n",
    "\n",
    "data_path = \"/Volumes/ChenLab-1/Fujiang/2_SmallSat_project/1_original_data/1_SHIFT_areas/1_Spaceborne_hyperspectral_imagery/\"\n",
    "out_path = \"/Volumes/ChenLab-1/Fujiang/2_SmallSat_project/2_processed_data/1_SHIFT_areas/\"\n",
    "\n",
    "file_name = \"EMIT_L2A_RFLUNCERT_001_20230422T195924_2311213_002.nc\"\n",
    "\n",
    "ds = et.emit_xarray(f\"{data_path}{file_name}\", ortho=True)\n",
    "et.write_envi(ds, out_path, overwrite=False, extension='.img', interleave='BIL', glt_file=False)"
   ]
  },
  {
   "cell_type": "code",
   "execution_count": 2,
   "id": "2e87fc78-8b8c-49f9-976c-dd86119bf4f3",
   "metadata": {
    "execution": {
     "iopub.execute_input": "2025-03-30T19:30:39.916349Z",
     "iopub.status.busy": "2025-03-30T19:30:39.914343Z",
     "iopub.status.idle": "2025-03-30T19:33:39.878913Z",
     "shell.execute_reply": "2025-03-30T19:33:39.878510Z",
     "shell.execute_reply.started": "2025-03-30T19:30:39.916282Z"
    }
   },
   "outputs": [],
   "source": [
    "data_path = \"/Volumes/ChenLab/Fujiang/2_SmallSat_project/1_original_data/2_San_Francisco/1_Spaceborne_hyperspectral_imagery/\"\n",
    "out_path = \"/Volumes/ChenLab/Fujiang/2_SmallSat_project/2_processed_data/2_San_Francisco/1_EMIT/\"\n",
    "\n",
    "file_name = \"EMIT_L2A_RFLUNCERT_001_20230822T192519_2323413_002.nc\"\n",
    "\n",
    "ds = et.emit_xarray(f\"{data_path}{file_name}\", ortho=True)\n",
    "et.write_envi(ds, out_path, overwrite=False, extension='.img', interleave='BIL', glt_file=False)"
   ]
  },
  {
   "cell_type": "code",
   "execution_count": 3,
   "id": "5d81c3b3-27da-438f-ae2d-6623130a3ac4",
   "metadata": {
    "execution": {
     "iopub.execute_input": "2025-03-30T19:33:58.031760Z",
     "iopub.status.busy": "2025-03-30T19:33:58.030720Z",
     "iopub.status.idle": "2025-03-30T19:37:04.100371Z",
     "shell.execute_reply": "2025-03-30T19:37:04.100017Z",
     "shell.execute_reply.started": "2025-03-30T19:33:58.031686Z"
    }
   },
   "outputs": [],
   "source": [
    "data_path = \"/Volumes/ChenLab/Fujiang/2_SmallSat_project/1_original_data/3_kanab/1_Spaceborne_hyperspectral_imagery/\"\n",
    "out_path = \"/Volumes/ChenLab/Fujiang/2_SmallSat_project/2_processed_data/3_Kanab/1_EMIT/\"\n",
    "\n",
    "file_name = \"EMIT_L2A_RFLUNCERT_001_20230924T223451_2326715_010.nc\"\n",
    "\n",
    "ds = et.emit_xarray(f\"{data_path}{file_name}\", ortho=True)\n",
    "et.write_envi(ds, out_path, overwrite=False, extension='.img', interleave='BIL', glt_file=False)"
   ]
  }
 ],
 "metadata": {
  "kernelspec": {
   "display_name": "Python 3 (ipykernel)",
   "language": "python",
   "name": "python3"
  },
  "language_info": {
   "codemirror_mode": {
    "name": "ipython",
    "version": 3
   },
   "file_extension": ".py",
   "mimetype": "text/x-python",
   "name": "python",
   "nbconvert_exporter": "python",
   "pygments_lexer": "ipython3",
   "version": "3.8.18"
  }
 },
 "nbformat": 4,
 "nbformat_minor": 5
}
